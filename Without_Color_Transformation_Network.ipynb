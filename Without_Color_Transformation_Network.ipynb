{
 "cells": [
  {
   "cell_type": "code",
   "execution_count": 1,
   "metadata": {
    "collapsed": false
   },
   "outputs": [
    {
     "name": "stderr",
     "output_type": "stream",
     "text": [
      "Using gpu device 0: GeForce GTX 750 Ti (CNMeM is disabled)\n"
     ]
    }
   ],
   "source": [
    "%matplotlib inline\n",
    "import os\n",
    "os.environ['THEANO_FLAGS']='device=gpu0'\n",
    "\n",
    "import tarfile\n",
    "import matplotlib\n",
    "import numpy as np\n",
    "np.random.seed(123)\n",
    "import matplotlib.pyplot as plt\n",
    "import lasagne\n",
    "import theano\n",
    "import theano.tensor as T\n",
    "conv = lasagne.layers.Conv2DLayer\n",
    "pool = lasagne.layers.MaxPool2DLayer\n",
    "NUM_EPOCHS = 50\n",
    "BATCH_SIZE = 256\n",
    "LEARNING_RATE = 0.001\n",
    "DIM = 32\n",
    "NUM_CLASSES = 10\n",
    "\n",
    "theano.config.optimizer = 'fast_compile'\n",
    "theano.config.exception_verbosity = 'high'\n"
   ]
  },
  {
   "cell_type": "code",
   "execution_count": 2,
   "metadata": {
    "collapsed": false
   },
   "outputs": [
    {
     "name": "stdout",
     "output_type": "stream",
     "text": [
      "Loaded dataset\n"
     ]
    }
   ],
   "source": [
    "def unpickle(file):\n",
    "    import cPickle\n",
    "    fo = open(file, 'rb')\n",
    "    dict = cPickle.load(fo)\n",
    "    fo.close()\n",
    "    return dict\n",
    "\n",
    "def load_data():\n",
    "    \n",
    "    \n",
    "\n",
    "    if os.path.isdir('cifar-10') == False:\n",
    "        print 'Downloading CIFAR-10 dataset...'\n",
    "        !wget -N http://www.cs.toronto.edu/~kriz/cifar-10-python.tar.gz\n",
    "        print 'Unzipping dataset...'\n",
    "        t = tarfile.open('cifar-10-python.tar.gz', 'r')\n",
    "        t.extractall('cifar-10')\n",
    "\n",
    "    xs = []\n",
    "    ys = []\n",
    "    for j in range(5):\n",
    "      d = unpickle('cifar-10/cifar-10-batches-py/data_batch_'+`j+1`)\n",
    "      x = d['data']\n",
    "      y = d['labels']\n",
    "      xs.append(x)\n",
    "      ys.append(y)\n",
    "\n",
    "    d = unpickle('cifar-10/cifar-10-batches-py/test_batch')\n",
    "    xs.append(d['data'])\n",
    "    ys.append(d['labels'])\n",
    "\n",
    "    x = np.concatenate(xs)/np.float32(255)\n",
    "    y = np.concatenate(ys)\n",
    "\n",
    "    x = np.dstack((x[:, :1024], x[:, 1024:2048], x[:, 2048:]))\n",
    "    x = x.reshape((x.shape[0], 3, 32, 32))\n",
    "    \n",
    "    X_train=lasagne.utils.floatX(x[0:40000,:])\n",
    "    X_valid = lasagne.utils.floatX(x[40001:50000,:])\n",
    "    X_test = lasagne.utils.floatX(x[50001:60000,:])\n",
    "    \n",
    "    return dict(\n",
    "        X_train=X_train,\n",
    "        y_train=y[0:40000].astype('int32'),\n",
    "        X_valid=X_valid,\n",
    "        y_valid = y[40001:50000].astype('int32'),\n",
    "        X_test=X_test,\n",
    "        y_test = y[50001:60000].astype('int32'),\n",
    "        num_examples_train=X_train.shape[0],\n",
    "        num_examples_valid=X_valid.shape[0],\n",
    "        num_examples_test=X_test.shape[0],\n",
    "        input_height=X_train.shape[2],\n",
    "        input_width=X_train.shape[3],\n",
    "        output_dim=10,)\n",
    "    \n",
    "data = load_data()\n",
    "print 'Loaded dataset'\n"
   ]
  },
  {
   "cell_type": "code",
   "execution_count": 3,
   "metadata": {
    "collapsed": false
   },
   "outputs": [],
   "source": [
    "theano.config.floatX='float32'\n",
    "\n",
    "def build_model(input_width, input_height, output_dim,\n",
    "                batch_size=BATCH_SIZE):\n",
    "    ini = lasagne.init.GlorotUniform()\n",
    "\n",
    "    inputs = lasagne.layers.InputLayer(shape=(None, 3, input_width, input_height),)\n",
    "\n",
    "        \n",
    "    # Classification network\n",
    "    class_l1 = conv(\n",
    "        inputs,\n",
    "        num_filters=32,\n",
    "        filter_size=(3, 3),\n",
    "        nonlinearity=lasagne.nonlinearities.rectify,\n",
    "        W=ini,\n",
    "    )\n",
    "\n",
    "    \n",
    "    class_l2 = pool(class_l1, pool_size=(2, 2))\n",
    "\n",
    "    class_l3 = conv(\n",
    "        class_l2,\n",
    "        num_filters=32,\n",
    "        filter_size=(3, 3),\n",
    "        nonlinearity=lasagne.nonlinearities.rectify,\n",
    "        W=ini,\n",
    "    )\n",
    "    class_l4 = pool(class_l3, pool_size=(2, 2))\n",
    "\n",
    "    \n",
    "    class_l5 = lasagne.layers.DenseLayer(\n",
    "        class_l4,\n",
    "        num_units=256,\n",
    "        nonlinearity=lasagne.nonlinearities.rectify,\n",
    "        W=ini,\n",
    "    )\n",
    "\n",
    " \n",
    "    # output layer\n",
    "    network = lasagne.layers.DenseLayer(\n",
    "        lasagne.layers.dropout(class_l5, p=.5),\n",
    "        num_units=10,\n",
    "        nonlinearity=lasagne.nonlinearities.softmax)\n",
    "    \n",
    "\n",
    "    return network\n",
    "\n",
    "model = build_model(DIM, DIM, NUM_CLASSES)\n",
    "model_params = lasagne.layers.get_all_params(model, trainable=True)"
   ]
  },
  {
   "cell_type": "code",
   "execution_count": 4,
   "metadata": {
    "collapsed": false
   },
   "outputs": [],
   "source": [
    "X = T.tensor4()\n",
    "y = T.ivector()\n",
    "\n",
    "# training output\n",
    "output_train = lasagne.layers.get_output(model, X, deterministic=False)\n",
    "\n",
    "# evaluation output. Also includes output of transform for plotting\n",
    "output_eval = lasagne.layers.get_output(model, X, deterministic=True)\n",
    "\n",
    "sh_lr = theano.shared(lasagne.utils.floatX(LEARNING_RATE))\n",
    "cost = T.mean(T.nnet.categorical_crossentropy(output_train, y))\n",
    "updates = lasagne.updates.adam(cost, model_params, learning_rate=sh_lr)\n",
    "\n",
    "train = theano.function([X, y], [cost, output_train], updates=updates,allow_input_downcast=True)\n",
    "eval = theano.function([X], [output_eval],allow_input_downcast=True)"
   ]
  },
  {
   "cell_type": "code",
   "execution_count": 5,
   "metadata": {
    "collapsed": true
   },
   "outputs": [],
   "source": [
    "def train_epoch(X, y):\n",
    "    num_samples = X.shape[0]\n",
    "    num_batches = int(np.ceil(num_samples / float(BATCH_SIZE)))\n",
    "    costs = []\n",
    "    correct = 0\n",
    "    for i in range(num_batches):\n",
    "        idx = range(i*BATCH_SIZE, np.minimum((i+1)*BATCH_SIZE, num_samples))\n",
    "        X_batch = X[idx]\n",
    "        y_batch = y[idx]\n",
    "        cost_batch, output_train = train(X_batch, y_batch)\n",
    "        costs += [cost_batch]\n",
    "        preds = np.argmax(output_train, axis=-1)\n",
    "        correct += np.sum(y_batch == preds)\n",
    "\n",
    "    return np.mean(costs), correct / float(num_samples)\n",
    "\n",
    "\n",
    "def eval_epoch(X, y):\n",
    "    output_eval = eval(X)\n",
    "    preds = np.argmax(output_eval, axis=-1)\n",
    "    acc = np.mean(preds == y)\n",
    "    return acc"
   ]
  },
  {
   "cell_type": "code",
   "execution_count": 6,
   "metadata": {
    "collapsed": false
   },
   "outputs": [
    {
     "name": "stdout",
     "output_type": "stream",
     "text": [
      "Epoch 0: Train cost 2.00849819183, Train acc 0.264425, val acc 0.346634663466, test acc 0.34503450345\n",
      "Epoch 1: Train cost 1.77786707878, Train acc 0.3613, val acc 0.393139313931, test acc 0.397739773977\n",
      "Epoch 2: Train cost 1.69929921627, Train acc 0.3931, val acc 0.396939693969, test acc 0.397539753975\n",
      "Epoch 3: Train cost 1.64811253548, Train acc 0.412025, val acc 0.41804180418, test acc 0.42104210421\n",
      "Epoch 4: Train cost 1.61038482189, Train acc 0.426875, val acc 0.413241324132, test acc 0.415841584158\n",
      "Epoch 5: Train cost 1.58065032959, Train acc 0.43495, val acc 0.428242824282, test acc 0.432743274327\n",
      "Epoch 6: Train cost 1.5571821928, Train acc 0.44285, val acc 0.436443644364, test acc 0.438543854385\n",
      "Epoch 7: Train cost 1.52241325378, Train acc 0.457975, val acc 0.442444244424, test acc 0.446544654465\n",
      "Epoch 8: Train cost 1.5050766468, Train acc 0.4622, val acc 0.435743574357, test acc 0.435643564356\n",
      "Epoch 9: Train cost 1.48406672478, Train acc 0.47115, val acc 0.448544854485, test acc 0.452445244524\n",
      "Epoch 10: Train cost 1.46256041527, Train acc 0.47725, val acc 0.452245224522, test acc 0.455445544554\n",
      "Epoch 11: Train cost 1.43970263004, Train acc 0.48745, val acc 0.45604560456, test acc 0.459645964596\n",
      "Epoch 12: Train cost 1.41509974003, Train acc 0.491325, val acc 0.47404740474, test acc 0.47504750475\n",
      "Epoch 13: Train cost 1.39370167255, Train acc 0.498525, val acc 0.46504650465, test acc 0.470947094709\n",
      "Epoch 14: Train cost 1.3785545826, Train acc 0.506425, val acc 0.480748074807, test acc 0.479247924792\n",
      "Epoch 15: Train cost 1.35719525814, Train acc 0.51245, val acc 0.481248124812, test acc 0.481248124812\n",
      "Epoch 16: Train cost 1.34293580055, Train acc 0.51735, val acc 0.484748474847, test acc 0.48904890489\n",
      "Epoch 17: Train cost 1.32672786713, Train acc 0.5246, val acc 0.48704870487, test acc 0.485948594859\n",
      "Epoch 18: Train cost 1.30861437321, Train acc 0.52955, val acc 0.496349634963, test acc 0.494749474947\n",
      "New LR: 0.000700000033248\n",
      "Epoch 19: Train cost 1.29638516903, Train acc 0.535075, val acc 0.49504950495, test acc 0.495149514951\n",
      "Epoch 20: Train cost 1.28128886223, Train acc 0.5407, val acc 0.500150015002, test acc 0.50195019502\n",
      "Epoch 21: Train cost 1.26360869408, Train acc 0.5458, val acc 0.502750275028, test acc 0.500250025003\n",
      "Epoch 22: Train cost 1.24598407745, Train acc 0.550925, val acc 0.503550355036, test acc 0.506650665067\n",
      "Epoch 23: Train cost 1.23687636852, Train acc 0.55705, val acc 0.504850485049, test acc 0.501250125013\n",
      "Epoch 24: Train cost 1.22558093071, Train acc 0.5606, val acc 0.504350435044, test acc 0.501850185019\n",
      "Epoch 25: Train cost 1.20639193058, Train acc 0.5674, val acc 0.504550455046, test acc 0.502850285029\n",
      "Epoch 26: Train cost 1.20092785358, Train acc 0.5668, val acc 0.50895089509, test acc 0.504650465047\n",
      "Epoch 27: Train cost 1.19077146053, Train acc 0.5727, val acc 0.501050105011, test acc 0.505350535054\n",
      "Epoch 28: Train cost 1.17321550846, Train acc 0.57775, val acc 0.506650665067, test acc 0.50695069507\n",
      "Epoch 29: Train cost 1.1667560339, Train acc 0.581325, val acc 0.508050805081, test acc 0.50195019502\n",
      "Epoch 30: Train cost 1.15334713459, Train acc 0.585025, val acc 0.507550755076, test acc 0.504850485049\n",
      "Epoch 31: Train cost 1.14398932457, Train acc 0.5883, val acc 0.50495049505, test acc 0.502150215022\n",
      "Epoch 32: Train cost 1.13081073761, Train acc 0.5897, val acc 0.507250725073, test acc 0.50495049505\n",
      "Epoch 33: Train cost 1.12172627449, Train acc 0.59285, val acc 0.502550255026, test acc 0.504050405041\n",
      "Epoch 34: Train cost 1.10586392879, Train acc 0.6034, val acc 0.508050805081, test acc 0.50395039504\n",
      "Epoch 35: Train cost 1.11026465893, Train acc 0.5993, val acc 0.510651065107, test acc 0.504750475048\n",
      "Epoch 36: Train cost 1.09782266617, Train acc 0.6048, val acc 0.50695069507, test acc 0.504350435044\n",
      "Epoch 37: Train cost 1.09251272678, Train acc 0.60275, val acc 0.510251025103, test acc 0.505050505051\n",
      "Epoch 38: Train cost 1.08790194988, Train acc 0.607175, val acc 0.512051205121, test acc 0.508350835084\n",
      "New LR: 0.000490000023274\n",
      "Epoch 39: Train cost 1.07938635349, Train acc 0.611075, val acc 0.510351035104, test acc 0.505850585059\n",
      "Epoch 40: Train cost 1.06666326523, Train acc 0.615175, val acc 0.508050805081, test acc 0.507350735074\n",
      "Epoch 41: Train cost 1.05243659019, Train acc 0.621175, val acc 0.502050205021, test acc 0.502350235024\n",
      "Epoch 42: Train cost 1.0432933569, Train acc 0.621225, val acc 0.50295029503, test acc 0.503650365037\n",
      "Epoch 43: Train cost 1.0328758955, Train acc 0.628975, val acc 0.51095109511, test acc 0.506050605061\n",
      "Epoch 44: Train cost 1.02611219883, Train acc 0.628375, val acc 0.507650765077, test acc 0.506550655066\n",
      "Epoch 45: Train cost 1.01637423038, Train acc 0.63325, val acc 0.507750775078, test acc 0.504750475048\n",
      "Epoch 46: Train cost 1.00746440887, Train acc 0.63385, val acc 0.50695069507, test acc 0.510451045105\n",
      "Epoch 47: Train cost 0.99352824688, Train acc 0.640375, val acc 0.506350635064, test acc 0.508350835084\n",
      "Epoch 48: Train cost 0.989139437675, Train acc 0.641375, val acc 0.511751175118, test acc 0.506350635064\n",
      "Epoch 49: Train cost 0.98127669096, Train acc 0.6439, val acc 0.50795079508, test acc 0.507150715072\n"
     ]
    }
   ],
   "source": [
    "\n",
    "\n",
    "valid_accs, train_accs, test_accs = [], [], []\n",
    "try:\n",
    "    for n in range(NUM_EPOCHS):\n",
    "        train_cost, train_acc = train_epoch(data['X_train'], data['y_train'])\n",
    "        valid_acc = eval_epoch(data['X_valid'], data['y_valid'])\n",
    "        test_acc = eval_epoch(data['X_test'], data['y_test'])\n",
    "        valid_accs += [valid_acc]\n",
    "        test_accs += [test_acc]\n",
    "        train_accs += [train_acc]\n",
    "\n",
    "\n",
    "\n",
    "        if (n+1) % 20 == 0:\n",
    "            new_lr = sh_lr.get_value() * 0.7\n",
    "            print \"New LR:\", new_lr\n",
    "            sh_lr.set_value(lasagne.utils.floatX(new_lr))\n",
    "          \n",
    "        print \"Epoch {0}: Train cost {1}, Train acc {2}, val acc {3}, test acc {4}\".format(\n",
    "                n, train_cost, train_acc, valid_acc, test_acc)\n",
    "except KeyboardInterrupt:\n",
    "    pass"
   ]
  },
  {
   "cell_type": "code",
   "execution_count": 7,
   "metadata": {
    "collapsed": false
   },
   "outputs": [
    {
     "data": {
      "image/png": "[encoded data removed]",
      "text/plain": [
       "<matplotlib.figure.Figure at 0x7fcb69742b90>"
      ]
     },
     "metadata": {},
     "output_type": "display_data"
    }
   ],
   "source": [
    "plt.figure(figsize=(9,9))\n",
    "plt.plot(1-np.array(train_accs), label='Training Error')\n",
    "plt.plot(1-np.array(valid_accs), label='Validation Error')\n",
    "plt.legend(fontsize=20)\n",
    "plt.xlabel('Epoch', fontsize=20)\n",
    "plt.ylabel('Error', fontsize=20)\n",
    "plt.show()"
   ]
  }
 ],
 "metadata": {
  "kernelspec": {
   "display_name": "Python 2",
   "language": "python",
   "name": "python2"
  },
  "language_info": {
   "codemirror_mode": {
    "name": "ipython",
    "version": 2
   },
   "file_extension": ".py",
   "mimetype": "text/x-python",
   "name": "python",
   "nbconvert_exporter": "python",
   "pygments_lexer": "ipython2",
   "version": "2.7.6"
  }
 },
 "nbformat": 4,
 "nbformat_minor": 0
}
